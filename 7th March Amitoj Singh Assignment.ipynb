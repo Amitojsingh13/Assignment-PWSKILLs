{
 "cells": [
  {
   "cell_type": "markdown",
   "id": "35100c06",
   "metadata": {},
   "source": [
    "# Q1. What are the three measures of central tendency?"
   ]
  },
  {
   "cell_type": "markdown",
   "id": "073cc15f",
   "metadata": {},
   "source": [
    "Three measures of central tendency are :\n",
    "1. mean\n",
    "2. median \n",
    "3. mode"
   ]
  },
  {
   "cell_type": "markdown",
   "id": "f386e917",
   "metadata": {},
   "source": [
    "# Q2. What is the difference between the mean, median, and mode? How are they used to measure the central tendency of a dataset?"
   ]
  },
  {
   "cell_type": "markdown",
   "id": "d545b620",
   "metadata": {},
   "source": [
    "Mean is the average of all the values of dataset.\n",
    "Mode is the maximum frequency of a value in a dataset. Which means that  the value repeated the most in dataset.\n",
    "Median is the value lying at the mid point of dataset.\n"
   ]
  },
  {
   "cell_type": "markdown",
   "id": "cb1ae3f5",
   "metadata": {},
   "source": [
    "# Q3. Measure the three measures of central tendency for the given height data:"
   ]
  },
  {
   "cell_type": "code",
   "execution_count": 13,
   "id": "a547579e",
   "metadata": {},
   "outputs": [],
   "source": [
    "data=[178,177,176,177,178.2,178,175,179,180,175,178.9,176.2,177,172.5,178,176.5] #given height data"
   ]
  },
  {
   "cell_type": "code",
   "execution_count": 2,
   "id": "af5c084a",
   "metadata": {},
   "outputs": [],
   "source": [
    "import numpy as np"
   ]
  },
  {
   "cell_type": "code",
   "execution_count": 3,
   "id": "8c132eb4",
   "metadata": {},
   "outputs": [
    {
     "data": {
      "text/plain": [
       "177.01875"
      ]
     },
     "execution_count": 3,
     "metadata": {},
     "output_type": "execute_result"
    }
   ],
   "source": [
    "np.mean(data)"
   ]
  },
  {
   "cell_type": "code",
   "execution_count": 4,
   "id": "c3a56da7",
   "metadata": {},
   "outputs": [
    {
     "data": {
      "text/plain": [
       "177.0"
      ]
     },
     "execution_count": 4,
     "metadata": {},
     "output_type": "execute_result"
    }
   ],
   "source": [
    "np.median(data)"
   ]
  },
  {
   "cell_type": "code",
   "execution_count": 11,
   "id": "4ac2528b",
   "metadata": {},
   "outputs": [],
   "source": [
    "from scipy import stats"
   ]
  },
  {
   "cell_type": "code",
   "execution_count": 12,
   "id": "9ee3ea5f",
   "metadata": {},
   "outputs": [
    {
     "name": "stderr",
     "output_type": "stream",
     "text": [
      "C:\\Users\\Amitoj Singh\\AppData\\Local\\Temp\\ipykernel_11228\\3267261142.py:1: FutureWarning: Unlike other reduction functions (e.g. `skew`, `kurtosis`), the default behavior of `mode` typically preserves the axis it acts along. In SciPy 1.11.0, this behavior will change: the default value of `keepdims` will become False, the `axis` over which the statistic is taken will be eliminated, and the value None will no longer be accepted. Set `keepdims` to True or False to avoid this warning.\n",
      "  stats.mode(data)\n"
     ]
    },
    {
     "data": {
      "text/plain": [
       "ModeResult(mode=array([177.]), count=array([3]))"
      ]
     },
     "execution_count": 12,
     "metadata": {},
     "output_type": "execute_result"
    }
   ],
   "source": [
    "stats.mode(data)"
   ]
  },
  {
   "cell_type": "markdown",
   "id": "6e5a148d",
   "metadata": {},
   "source": [
    "# Q4. Find the standard deviation for the given data:"
   ]
  },
  {
   "cell_type": "code",
   "execution_count": 14,
   "id": "d840bda0",
   "metadata": {},
   "outputs": [],
   "source": [
    "data=[178,177,176,177,178.2,178,175,179,180,175,178.9,176.2,177,172.5,178,176.5] #given height data"
   ]
  },
  {
   "cell_type": "code",
   "execution_count": 15,
   "id": "66705155",
   "metadata": {},
   "outputs": [
    {
     "data": {
      "text/plain": [
       "1.7885814036548633"
      ]
     },
     "execution_count": 15,
     "metadata": {},
     "output_type": "execute_result"
    }
   ],
   "source": [
    "np.std(data)"
   ]
  },
  {
   "cell_type": "markdown",
   "id": "e50288ba",
   "metadata": {},
   "source": [
    "# Q5 How are measures of dispersion such as range, variance, and standard deviation used to describe the spread of a dataset? Provide an example."
   ]
  },
  {
   "cell_type": "markdown",
   "id": "0098991c",
   "metadata": {},
   "source": [
    "Range : Range is the simplest measure of dispersion and represents the difference between the maximum and minimum values in a dataset.\n",
    "Suppose we have a dataset describing open circuit voltage of a battery = [13.33,13.18,13\t12.84,12.68,12.52,12.36,12.2,12.05,11.89,11.72]\n",
    "range is 13.33(max)-11.72(min) = 1.61 volts\n",
    "\n",
    "Variance measures the average squared deviation of each data point from the mean of the dataset.\n",
    "A higher variance means the data points are more spread out from the mean.\n",
    "Suppose we have a dataset of test scores for a class: [85, 90, 88, 78, 92]. To calculate the variance, first find the mean (sum of scores / number of scores): (85 + 90 + 88 + 78 + 92) / 5 = 86.6. Then, calculate the squared deviations from the mean for each score: [(85 - 86.6)^2, (90 - 86.6)^2, (88 - 86.6)^2, (78 - 86.6)^2, (92 - 86.6)^2]. The variance is the average of these squared deviations.\n",
    "\n",
    "Standard deviation is the square root of the variance and represents the typical or average deviation of data points from the mean.It provides a measure of dispersion in the same units as the original data, making it more interpretable than variance.\n",
    "Using the same dataset of test scores, if we calculate the variance as 21.04, then the standard deviation is the square root of this value, which is approximately 4.59. So, the standard deviation indicates that, on average, the test scores are about 4.59 points away from the mean."
   ]
  },
  {
   "cell_type": "markdown",
   "id": "b31343be",
   "metadata": {},
   "source": [
    "# Q6 What is Venn Diagram\n"
   ]
  },
  {
   "cell_type": "markdown",
   "id": "2b42207f",
   "metadata": {},
   "source": [
    "A Venn diagram is a graphical representation used to show the relationship between sets. It consists of overlapping circles, each representing a set, and the overlapping regions indicate the elements that are common to those sets. Venn diagrams are a useful tool for visualizing set operations like union, intersection, and complement."
   ]
  },
  {
   "cell_type": "markdown",
   "id": "46c734a6",
   "metadata": {},
   "source": [
    "# Q7 For the two given sets A = (2,3,4,5,6,7) & B = (0,2,6,8,10). Find:\n"
   ]
  },
  {
   "cell_type": "markdown",
   "id": "9c4eba6d",
   "metadata": {},
   "source": [
    "i) (2,6)\n",
    "ii) (0,2,3,4,5,6,7,8,10)"
   ]
  },
  {
   "cell_type": "markdown",
   "id": "024f05bb",
   "metadata": {},
   "source": [
    "# Q8. What do you understand about skewness in data?"
   ]
  },
  {
   "cell_type": "markdown",
   "id": "3ba80d1c",
   "metadata": {},
   "source": [
    "It is a relationship between mean, median and mode.\n",
    "There are two types of skewness in data i.e. Right skewed which is nothing but positive skewed and Left skewed which is a negative skewed"
   ]
  },
  {
   "cell_type": "markdown",
   "id": "a36d29bd",
   "metadata": {},
   "source": [
    "# Q9. If a data is right skewed then what will be the position of median with respect to mean?"
   ]
  },
  {
   "cell_type": "markdown",
   "id": "b46f9450",
   "metadata": {},
   "source": [
    "If the data is right skwewed then the position the median will be at left side of mean.\n"
   ]
  },
  {
   "cell_type": "markdown",
   "id": "87b1bf95",
   "metadata": {},
   "source": [
    "# Q10. Explain the difference between covariance and correlation. How are these measures used in statistical analysis?"
   ]
  },
  {
   "cell_type": "markdown",
   "id": "22ba2905",
   "metadata": {},
   "source": [
    "\n",
    "\n",
    "Covariance is primarily used to assess the direction of the relationship between two variables (positive or negative).\n",
    "It is used in some statistical models and calculations, such as calculating the coefficients in linear regression models.\n",
    "However, covariance alone is not very informative about the strength of the relationship or its significance, especially when dealing with variables measured in different units.\n",
    "Correlation:\n",
    "\n",
    "Correlation is widely used to quantify and interpret the strength and direction of the linear relationship between two variables.\n",
    "It is used to identify patterns and associations in data, especially in fields like finance, social sciences, and natural sciences.\n",
    "Correlation coefficients (e.g., Pearson correlation coefficient) are used to determine the degree to which two variables move together and are a fundamental part of bivariate analysis.\n",
    "Correlation is also used in hypothesis testing to assess the significance of the relationship.\n",
    "In summary, covariance measures the degree of linear association between two variables but lacks standardization and clear interpretation. Correlation, on the other hand, standardizes the measure, making it easier to compare relationships, and provides a clear interpretation of the strength and direction of the linear relationship between variables. Correlation is the more commonly used and preferred measure in statistical analysis due to its advantages over covariance.\n",
    "\n",
    "\n",
    "\n",
    "\n",
    "\n"
   ]
  },
  {
   "cell_type": "markdown",
   "id": "e86ff7ec",
   "metadata": {},
   "source": [
    "# Q11. What is the formula for calculating the sample mean? Provide an example calculation for a dataset."
   ]
  },
  {
   "cell_type": "markdown",
   "id": "4790dfd2",
   "metadata": {},
   "source": [
    "The sample mean, often denoted as \"x̄\", is a measure of central tendency that represents the average value of a dataset."
   ]
  },
  {
   "cell_type": "code",
   "execution_count": 1,
   "id": "2ed1fbcd",
   "metadata": {},
   "outputs": [],
   "source": [
    "import numpy as np"
   ]
  },
  {
   "cell_type": "code",
   "execution_count": 2,
   "id": "5166cef6",
   "metadata": {},
   "outputs": [],
   "source": [
    "data=[350, 420, 390, 320, 480, 410, 380]"
   ]
  },
  {
   "cell_type": "code",
   "execution_count": 4,
   "id": "a372893f",
   "metadata": {},
   "outputs": [
    {
     "data": {
      "text/plain": [
       "392.85714285714283"
      ]
     },
     "execution_count": 4,
     "metadata": {},
     "output_type": "execute_result"
    }
   ],
   "source": [
    "np.mean(data)#Sample Mean (x̄) = (Sum of all data points) / (Number of data points)"
   ]
  },
  {
   "cell_type": "markdown",
   "id": "31d12aa6",
   "metadata": {},
   "source": [
    "Formula wise:\n",
    "sum of al data points = 350 + 420 + 390 + 320 + 480 + 410 + 380 = 2750;\n",
    "sample mean = 2750/7=392.85\n"
   ]
  },
  {
   "cell_type": "markdown",
   "id": "6946c6bf",
   "metadata": {},
   "source": [
    "# Q12 For a normal distribution data what is the relationship between its measure of central tendency?"
   ]
  },
  {
   "cell_type": "markdown",
   "id": "a1a7eb02",
   "metadata": {},
   "source": [
    "In a normal distribution (also known as a Gaussian distribution or bell curve), there is a specific relationship between its measures of central tendency, which include the mean, median, and mode. This relationship is a key characteristic of the normal distribution and is as follows:\n",
    "\n",
    "Mean (μ):\n",
    "The mean of a normal distribution is located at the center of the distribution.\n",
    "It is the arithmetic average of all the data points in the distribution.\n",
    "In a normal distribution, the mean is exactly equal to the median and the mode.\n",
    "\n",
    "Median:\n",
    "The median of a normal distribution is also located at the center of the distribution.\n",
    "It is the middle value when all data points are arranged in ascending or descending order.\n",
    "In a normal distribution, the median is exactly equal to the mean and the mode.\n",
    "\n",
    "Mode:\n",
    "The mode of a normal distribution is the value that occurs with the highest frequency.\n",
    "In a normal distribution, the mode is exactly equal to the mean and the median."
   ]
  },
  {
   "cell_type": "markdown",
   "id": "f449a4dc",
   "metadata": {},
   "source": [
    "# Q13"
   ]
  },
  {
   "cell_type": "markdown",
   "id": "4f3bfee0",
   "metadata": {},
   "source": [
    "Definition:\n",
    "\n",
    "Covariance: Covariance measures the degree to which two variables change together. It quantifies the directional relationship between two variables. A positive covariance indicates that when one variable is above its mean, the other tends to be above its mean as well, and vice versa for below-mean values. A negative covariance suggests that one variable tends to be above its mean when the other is below its mean.\n",
    "Correlation: Correlation, on the other hand, is a standardized measure that assesses both the strength and direction of the linear relationship between two variables. It measures how well the relationship between two variables can be described by a straight line. Correlation values range between -1 (perfect negative linear relationship) and 1 (perfect positive linear relationship), with 0 indicating no linear relationship.\n",
    "Units:\n",
    "\n",
    "Covariance: Covariance is not standardized, and its units are the product of the units of the two variables being measured. This makes it difficult to interpret and compare across different datasets or variables with different units.\n",
    "Correlation: Correlation is unitless, which makes it easy to compare relationships between variables measured in different units.\n",
    "Range:\n",
    "\n",
    "Covariance: Covariance can take any value, including positive and negative values. The magnitude of covariance does not have a specific range.\n",
    "Correlation: Correlation values always fall between -1 and 1, providing a clear and interpretable measure of the strength and direction of the linear relationship.\n",
    "Interpretation:\n",
    "\n",
    "Covariance: Covariance alone does not provide a clear interpretation of the strength or direction of the relationship between two variables. It only indicates whether the variables tend to move together or in opposite directions.\n",
    "Correlation: Correlation provides a standardized measure that is easier to interpret. A positive correlation indicates that as one variable increases, the other tends to increase as well, and vice versa. A negative correlation suggests that as one variable increases, the other tends to decrease.\n",
    "Use Cases:\n",
    "\n",
    "Covariance: Covariance is primarily used to assess the direction of the relationship between two variables (positive or negative) and is used in some statistical calculations and models.\n",
    "Correlation: Correlation is widely used to quantify and interpret the strength and direction of the linear relationship between two variables. It is a fundamental tool in statistics, data analysis, and various fields like finance, social sciences, and natural sciences."
   ]
  },
  {
   "cell_type": "markdown",
   "id": "856af9f9",
   "metadata": {},
   "source": [
    "# Q14"
   ]
  },
  {
   "cell_type": "markdown",
   "id": "ea614aa0",
   "metadata": {},
   "source": [
    "Outliers can significantly affect measures of central tendency and dispersion.\n",
    "\n",
    "Example:\n",
    "Consider a dataset of ages in a small town: [25, 27, 29, 30, 32, 34, 35, 36, 200].\n",
    "\n",
    "Central Tendency: The mean (average) age is greatly influenced by the outlier (200), making it much higher (approximately 57.44) than the typical age in the town.\n",
    "Dispersion: The presence of the outlier drastically increases the range and standard deviation, indicating greater spread or variability in the ages."
   ]
  },
  {
   "cell_type": "code",
   "execution_count": null,
   "id": "afbf32a7",
   "metadata": {},
   "outputs": [],
   "source": []
  }
 ],
 "metadata": {
  "kernelspec": {
   "display_name": "Python 3 (ipykernel)",
   "language": "python",
   "name": "python3"
  },
  "language_info": {
   "codemirror_mode": {
    "name": "ipython",
    "version": 3
   },
   "file_extension": ".py",
   "mimetype": "text/x-python",
   "name": "python",
   "nbconvert_exporter": "python",
   "pygments_lexer": "ipython3",
   "version": "3.9.13"
  }
 },
 "nbformat": 4,
 "nbformat_minor": 5
}
