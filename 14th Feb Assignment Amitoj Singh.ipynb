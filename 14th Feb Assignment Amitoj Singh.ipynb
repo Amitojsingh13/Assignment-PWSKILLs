{
 "cells": [
  {
   "cell_type": "markdown",
   "id": "7d90e3bb",
   "metadata": {},
   "source": [
    "# Q1\n",
    "What is multithreading in python? hy is it used? Name the module used to handle threads in python"
   ]
  },
  {
   "cell_type": "markdown",
   "id": "58fd653f",
   "metadata": {},
   "source": [
    "This article covers the basics of multithreading in Python programming language. Just like multiprocessing, multithreading is a way of achieving multitasking. In multithreading, the concept of threads is used. \"Threading\" module is used to handle threads"
   ]
  },
  {
   "cell_type": "markdown",
   "id": "e9183e02",
   "metadata": {},
   "source": [
    "# Q2\n",
    "Why threading module used? write the use of the following functions\n",
    "1. activeCount()\n",
    "2. currentThread()\n",
    "3. enumerate()"
   ]
  },
  {
   "cell_type": "markdown",
   "id": "5da6c4cb",
   "metadata": {},
   "source": [
    "Python threading allows you to have different parts of your program run concurrently and can simplify your design.\n",
    "\n",
    "1. The threading.active_count() is an inbuilt method of the threading module, it is used to return the number of Thread objects that are active at any instant.\n",
    "2. threading.currentThread() − Returns the number of thread objects in the caller's thread control\n",
    "3. The threading.enumerate() is an inbuilt method of the threading module, it is used to return the list of all the Thread class objects which are currently alive. It also includes daemonic threads, the main thread, and dummy thread objects created by current_thread().\n",
    "\n"
   ]
  },
  {
   "cell_type": "markdown",
   "id": "28ba6c2a",
   "metadata": {},
   "source": [
    "# Q3\n",
    "3. Explain the following functions\n",
    "\n",
    "1. run()\n",
    "2. start()\n",
    "3. join()\n",
    "4. isAlive()"
   ]
  },
  {
   "cell_type": "markdown",
   "id": "de6e16b1",
   "metadata": {},
   "source": [
    "run() : is a method that is often defined or overridden in a class that implements the Runnable interface or inherits from the Thread class in threading libraries. It represents the code that will be executed when the thread is started. When you start a thread, the run() method is invoked, and the logic within it is executed in the context of that thread.\n",
    "\n",
    "start(): is a method that starts the execution of a thread. When you call start(), it creates a new thread and invokes the run() method in that new thread. This is the recommended way to start a thread rather than directly calling the run() method, as calling run() directly won't create a new thread and will run the code in the current thread.\n",
    "\n",
    "join(): is a method used to wait for a thread to complete its execution. When you call join() on a thread, the calling thread will be blocked until the target thread finishes its work. It is useful when you want to ensure that certain operations in your program are executed only after a particular thread has finished its task.\n",
    "\n",
    "isAlive(): is a method used to check if a thread is currently running. It returns a boolean value indicating whether the thread is active or has finished its execution. If the thread is still running, isAlive() returns True; otherwise, it returns False."
   ]
  },
  {
   "cell_type": "markdown",
   "id": "107d9ef1",
   "metadata": {},
   "source": [
    "# Q4\n",
    "Write a python program to create two threads. Thread one must print the list of squares and thread\n",
    "two must print the list of cubes"
   ]
  },
  {
   "cell_type": "code",
   "execution_count": 34,
   "id": "4aa83fd0",
   "metadata": {},
   "outputs": [
    {
     "name": "stdout",
     "output_type": "stream",
     "text": [
      "the square of 0:0the cube of 0:0\n",
      "the cube of 1:1\n",
      "the cube of 2:8\n",
      "the cube of 3:27\n",
      "the cube of 4:64\n",
      "\n",
      "the square of 1:1\n",
      "the square of 2:4\n",
      "the square of 3:9\n",
      "the square of 4:16\n"
     ]
    }
   ],
   "source": [
    "import threading\n",
    "\n",
    "def sq(numbers):\n",
    "    for num in numbers:\n",
    "        print(f\"the square of {num}:{num**2}\")\n",
    "def cb(numbers):\n",
    "    for num in numbers:\n",
    "        print(f\"the cube of {num}:{num**3}\")\n",
    "def main():\n",
    "    numbers=list(range(5))\n",
    "    \n",
    "    thrd1= threading.Thread(target=sq, args=(numbers,)) \n",
    "    thrd2= threading.Thread(target=cb, args=(numbers,)) \n",
    "    thrd1.start()\n",
    "    thrd2.start()\n",
    "    thrd1.join()\n",
    "    thrd2.join()\n",
    "    \n",
    "if __name__==\"__main__\":\n",
    "    main()"
   ]
  },
  {
   "cell_type": "code",
   "execution_count": null,
   "id": "a49125bf",
   "metadata": {},
   "outputs": [],
   "source": []
  },
  {
   "cell_type": "markdown",
   "id": "02ba4dcd",
   "metadata": {},
   "source": [
    "Advantages:\n",
    "\n",
    "improved Performance: Multithreading allows a program to execute multiple tasks concurrently, taking advantage of multiple processor cores. This can lead to improved performance and faster execution times, especially in CPU-bound tasks.\n",
    "\n",
    "Responsiveness: Multithreading can enhance the responsiveness of an application, particularly in user interfaces. By offloading time-consuming tasks to separate threads, the main thread can remain responsive and continue handling user interactions.\n",
    "\n",
    "Resource Sharing: Threads within a process share the same memory space, making it easier to share data between threads without the need for complex inter-process communication mechanisms.\n",
    "\n",
    "Modular Design: Multithreading allows developers to design applications with modular components that can run independently as separate threads, making the codebase more maintainable and easier to understand.\n",
    "\n",
    "Parallelism: Multithreading enables parallelism, which is crucial in tasks that can be broken down into smaller, independent subtasks. This can significantly speed up the execution of such tasks.\n",
    "\n",
    "\n",
    "Disadvantages:\n",
    "\n",
    "Complexity: Writing multithreaded code can be complex and error-prone due to issues like race conditions, deadlocks, and thread synchronization. Debugging and testing multithreaded programs can also be more challenging.\n",
    "\n",
    "Race Conditions: Race conditions occur when multiple threads access shared resources concurrently, leading to unpredictable behavior and data corruption if not handled correctly.\n",
    "\n",
    "Deadlocks: Deadlocks can occur when two or more threads are waiting for each other to release resources, resulting in a state where none of the threads can proceed, causing the program to freeze.\n",
    "\n",
    "Resource Contentions: Threads competing for shared resources can lead to resource contentions, slowing down the overall performance of the application.\n",
    "\n",
    "Increased Memory Usage: Each thread has its own stack and thread context, which can lead to increased memory consumption, especially when creating numerous threads.\n",
    "\n",
    "Difficulty in Debugging: Identifying and resolving issues in multithreaded applications can be more complex than single-threaded programs, as debugging becomes more challenging with non-deterministic behavior.\n",
    "\n",
    "Limited Scaling: While multithreading can improve performance on multi-core processors, there is a limit to how much performance can be gained from adding more threads due to diminishing returns and overhead from thread management."
   ]
  },
  {
   "cell_type": "markdown",
   "id": "fedf18ca",
   "metadata": {},
   "source": [
    "# Q6"
   ]
  },
  {
   "cell_type": "markdown",
   "id": "dfc80599",
   "metadata": {},
   "source": [
    "Deadlocks:\n",
    "A deadlock is a situation in which two or more threads or processes are unable to proceed because each is waiting for the other to release a resource that they need. In other words, the threads are stuck in a circular wait, where each thread is holding a resource that another thread requires to proceed. As a result, none of the threads can make any progress, and the application can become unresponsive or even crash.\n",
    "\n",
    "Race Conditions:\n",
    "A race condition is a situation in which the behavior of a program depends on the relative timing of events, particularly when multiple threads or processes access shared resources without proper synchronization. It occurs when the outcome of the program depends on the order of execution of operations, which can lead to unpredictable or erroneous results."
   ]
  },
  {
   "cell_type": "code",
   "execution_count": null,
   "id": "0d3d761f",
   "metadata": {},
   "outputs": [],
   "source": []
  }
 ],
 "metadata": {
  "kernelspec": {
   "display_name": "Python 3 (ipykernel)",
   "language": "python",
   "name": "python3"
  },
  "language_info": {
   "codemirror_mode": {
    "name": "ipython",
    "version": 3
   },
   "file_extension": ".py",
   "mimetype": "text/x-python",
   "name": "python",
   "nbconvert_exporter": "python",
   "pygments_lexer": "ipython3",
   "version": "3.9.13"
  }
 },
 "nbformat": 4,
 "nbformat_minor": 5
}
